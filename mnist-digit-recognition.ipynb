{
 "cells": [
  {
   "cell_type": "code",
   "execution_count": 12,
   "metadata": {},
   "outputs": [],
   "source": [
    "#bu notebook u da udemydeki hoca nasıl yaptıysa ondan bakarak yazacağım. çok büyük farklılıkklar yok zaten. okuma ve ön işlemler\n",
    "#farklı sadece. bunu da yapmış olayım. burada dataseti indirip csv halinde bulunması gerekiyor. kaggle'dan indirdim \"digit-recognizer\"\n",
    "#diye yarışma var oradan indirebiliriz.\n"
   ]
  },
  {
   "cell_type": "code",
   "execution_count": 13,
   "metadata": {},
   "outputs": [],
   "source": [
    "from keras.models import Sequential\n",
    "from keras.layers import Dense, Activation, Conv2D, MaxPooling2D, Flatten, Dropout, BatchNormalization\n",
    "from keras.utils import to_categorical   #one-hot için gerekli\n",
    "import matplotlib.pyplot as plt\n",
    "import pandas as pd\n",
    "import numpy as np\n",
    "import warnings\n",
    "warnings.filterwarnings(\"ignore\")"
   ]
  },
  {
   "cell_type": "code",
   "execution_count": 14,
   "metadata": {},
   "outputs": [],
   "source": [
    "# load and preprocess\n",
    "def load_and_preprocess(data_path):\n",
    "    data = pd.read_csv(data_path)\n",
    "    data = data.to_numpy()\n",
    "    np.random.shuffle(data)\n",
    "    x = data[:,1:].reshape(-1,28,28,1)/255.0\n",
    "    y = data[:,0].astype(np.int32)\n",
    "    y = to_categorical(y, num_classes=len(set(y)))\n",
    "\n",
    "    return x,y"
   ]
  },
  {
   "cell_type": "code",
   "execution_count": null,
   "metadata": {},
   "outputs": [],
   "source": []
  },
  {
   "cell_type": "code",
   "execution_count": 15,
   "metadata": {},
   "outputs": [],
   "source": [
    "train_data_path = \"./mnist_train.csv\"\n",
    "test_data_path = \"./mnist_test.csv\"\n",
    "\n",
    "x_train,y_train = load_and_preprocess(train_data_path)\n",
    "x_test, y_test = load_and_preprocess(test_data_path)"
   ]
  },
  {
   "cell_type": "code",
   "execution_count": 16,
   "metadata": {},
   "outputs": [
    {
     "name": "stderr",
     "output_type": "stream",
     "text": [
      "No handles with labels found to put in legend.\n"
     ]
    },
    {
     "data": {
      "image/png": "[encoded data removed]",
      "text/plain": [
       "<Figure size 432x288 with 1 Axes>"
      ]
     },
     "metadata": {
      "needs_background": "light"
     },
     "output_type": "display_data"
    },
    {
     "name": "stdout",
     "output_type": "stream",
     "text": [
      "9\n"
     ]
    }
   ],
   "source": [
    "# %% visualize\n",
    "index = 55\n",
    "vis = x_train.reshape(60000,28,28)\n",
    "plt.imshow(vis[index,:,:]) \n",
    "plt.legend()\n",
    "plt.axis(\"off\")\n",
    "plt.show()\n",
    "print(np.argmax(y_train[index]))"
   ]
  },
  {
   "cell_type": "code",
   "execution_count": 21,
   "metadata": {},
   "outputs": [],
   "source": [
    "\n",
    "#%% CNN\n",
    "numberOfClass = y_train.shape[1]\n",
    "\n",
    "model = Sequential()\n",
    "\n",
    "model.add(Conv2D(input_shape = (28,28,1), filters = 16, kernel_size = (3,3)))\n",
    "model.add(BatchNormalization())\n",
    "model.add(Activation(\"relu\"))\n",
    "model.add(MaxPooling2D())\n",
    "\n",
    "model.add(Conv2D(filters = 64, kernel_size = (3,3)))\n",
    "model.add(BatchNormalization())\n",
    "model.add(Activation(\"relu\"))\n",
    "model.add(MaxPooling2D())\n",
    "\n",
    "model.add(Conv2D(filters = 128, kernel_size = (2,2)))\n",
    "model.add(BatchNormalization())\n",
    "model.add(Activation(\"relu\"))\n",
    "\n",
    "model.add(Conv2D(filters = 128, kernel_size = (3,3)))\n",
    "model.add(BatchNormalization())\n",
    "model.add(Activation(\"relu\"))\n",
    "model.add(MaxPooling2D())\n",
    "\n",
    "model.add(Flatten())\n",
    "model.add(Dense(units = 256))\n",
    "model.add(Activation(\"relu\"))\n",
    "model.add(Dropout(0.2))\n",
    "model.add(Dense(units = numberOfClass))\n",
    "model.add(Activation(\"softmax\"))\n",
    "\n",
    "model.compile(loss = \"categorical_crossentropy\",\n",
    "              optimizer = \"adam\",\n",
    "              metrics = [\"accuracy\"])"
   ]
  },
  {
   "cell_type": "code",
   "execution_count": 23,
   "metadata": {},
   "outputs": [
    {
     "name": "stdout",
     "output_type": "stream",
     "text": [
      "Train on 60000 samples, validate on 10000 samples\n",
      "Epoch 1/20\n",
      "60000/60000 [==============================] - 119s 2ms/step - loss: 0.0761 - accuracy: 0.9771 - val_loss: 0.0990 - val_accuracy: 0.9680\n",
      "Epoch 2/20\n",
      "60000/60000 [==============================] - 119s 2ms/step - loss: 0.0329 - accuracy: 0.9898 - val_loss: 0.0313 - val_accuracy: 0.9907\n",
      "Epoch 3/20\n",
      "60000/60000 [==============================] - 136s 2ms/step - loss: 0.0239 - accuracy: 0.9919 - val_loss: 0.0509 - val_accuracy: 0.9845\n",
      "Epoch 4/20\n",
      "60000/60000 [==============================] - 138s 2ms/step - loss: 0.0201 - accuracy: 0.9936 - val_loss: 0.0317 - val_accuracy: 0.9902\n",
      "Epoch 5/20\n",
      "60000/60000 [==============================] - 135s 2ms/step - loss: 0.0156 - accuracy: 0.9949 - val_loss: 0.0375 - val_accuracy: 0.9884\n",
      "Epoch 6/20\n",
      "60000/60000 [==============================] - 135s 2ms/step - loss: 0.0131 - accuracy: 0.9956 - val_loss: 0.0318 - val_accuracy: 0.9908\n",
      "Epoch 7/20\n",
      "60000/60000 [==============================] - 135s 2ms/step - loss: 0.0104 - accuracy: 0.9966 - val_loss: 0.0316 - val_accuracy: 0.9907\n",
      "Epoch 8/20\n",
      "60000/60000 [==============================] - 135s 2ms/step - loss: 0.0114 - accuracy: 0.9962 - val_loss: 0.0303 - val_accuracy: 0.9911\n",
      "Epoch 9/20\n",
      "60000/60000 [==============================] - 147s 2ms/step - loss: 0.0077 - accuracy: 0.9974 - val_loss: 0.0341 - val_accuracy: 0.9899\n",
      "Epoch 10/20\n",
      "60000/60000 [==============================] - 134s 2ms/step - loss: 0.0078 - accuracy: 0.9976 - val_loss: 0.0758 - val_accuracy: 0.9825\n",
      "Epoch 11/20\n",
      "60000/60000 [==============================] - 134s 2ms/step - loss: 0.0094 - accuracy: 0.9969 - val_loss: 0.0652 - val_accuracy: 0.9837\n",
      "Epoch 12/20\n",
      "60000/60000 [==============================] - 136s 2ms/step - loss: 0.0086 - accuracy: 0.9972 - val_loss: 0.0422 - val_accuracy: 0.9898\n",
      "Epoch 13/20\n",
      "60000/60000 [==============================] - 134s 2ms/step - loss: 0.0075 - accuracy: 0.9974 - val_loss: 0.0344 - val_accuracy: 0.9919\n",
      "Epoch 14/20\n",
      "60000/60000 [==============================] - 135s 2ms/step - loss: 0.0057 - accuracy: 0.9981 - val_loss: 0.0290 - val_accuracy: 0.9929\n",
      "Epoch 15/20\n",
      "60000/60000 [==============================] - 134s 2ms/step - loss: 0.0057 - accuracy: 0.9982 - val_loss: 0.0426 - val_accuracy: 0.9895\n",
      "Epoch 16/20\n",
      "60000/60000 [==============================] - 134s 2ms/step - loss: 0.0074 - accuracy: 0.9977 - val_loss: 0.0421 - val_accuracy: 0.9890\n",
      "Epoch 17/20\n",
      "60000/60000 [==============================] - 134s 2ms/step - loss: 0.0055 - accuracy: 0.9980 - val_loss: 0.0710 - val_accuracy: 0.9844\n",
      "Epoch 18/20\n",
      "60000/60000 [==============================] - 137s 2ms/step - loss: 0.0060 - accuracy: 0.9979 - val_loss: 0.0370 - val_accuracy: 0.9907\n",
      "Epoch 19/20\n",
      "60000/60000 [==============================] - 133s 2ms/step - loss: 0.0049 - accuracy: 0.9983 - val_loss: 0.0286 - val_accuracy: 0.9931\n",
      "Epoch 20/20\n",
      "60000/60000 [==============================] - 134s 2ms/step - loss: 0.0054 - accuracy: 0.9982 - val_loss: 0.0355 - val_accuracy: 0.9915\n"
     ]
    }
   ],
   "source": [
    "# Train\n",
    "hist = model.fit(x_train,y_train, validation_data=(x_test,y_test), epochs= 20, batch_size= 128)"
   ]
  },
  {
   "cell_type": "code",
   "execution_count": 24,
   "metadata": {},
   "outputs": [],
   "source": [
    "#%%\n",
    "#model.save_weights('cnn_mnist_model.h5')  # always save your weights after training or during training\n",
    "model.save('model.h5')  # always save your weights after training or during training"
   ]
  },
  {
   "cell_type": "code",
   "execution_count": 25,
   "metadata": {},
   "outputs": [
    {
     "name": "stdout",
     "output_type": "stream",
     "text": [
      "dict_keys(['val_loss', 'val_accuracy', 'loss', 'accuracy'])\n"
     ]
    },
    {
     "data": {
      "image/png": "[encoded data removed]",
      "text/plain": [
       "<Figure size 432x288 with 1 Axes>"
      ]
     },
     "metadata": {
      "needs_background": "light"
     },
     "output_type": "display_data"
    },
    {
     "data": {
      "image/png": "[encoded data removed]",
      "text/plain": [
       "<Figure size 432x288 with 1 Axes>"
      ]
     },
     "metadata": {
      "needs_background": "light"
     },
     "output_type": "display_data"
    }
   ],
   "source": [
    "#%% evaluation \n",
    "print(hist.history.keys())\n",
    "plt.plot(hist.history[\"loss\"],label = \"Train Loss\")\n",
    "plt.plot(hist.history[\"val_loss\"],label = \"Validation Loss\")\n",
    "plt.legend()\n",
    "plt.show()\n",
    "plt.figure()\n",
    "plt.plot(hist.history[\"accuracy\"],label = \"Train Accuracy\")\n",
    "plt.plot(hist.history[\"val_accuracy\"],label = \"Validation Accuracy\")\n",
    "plt.legend()\n",
    "plt.show()"
   ]
  },
  {
   "cell_type": "code",
   "execution_count": null,
   "metadata": {},
   "outputs": [],
   "source": []
  },
  {
   "cell_type": "code",
   "execution_count": 33,
   "metadata": {},
   "outputs": [
    {
     "name": "stdout",
     "output_type": "stream",
     "text": [
      "[[0. 0. 0. 0. 0. 0. 0. 1. 0. 0.]]\n",
      "[7]\n",
      "['7']\n"
     ]
    }
   ],
   "source": [
    "# example of converting an image with the Keras API\n",
    "from keras.preprocessing.image import load_img\n",
    "from keras.preprocessing.image import img_to_array\n",
    "from keras.preprocessing.image import array_to_img\n",
    "from keras.models import load_model\n",
    "\n",
    "img_path = \"./7.png\"\n",
    "img = load_img(img_path , grayscale=True, target_size = (28,28))\n",
    "img.show()\n",
    "\n",
    "img_array = img_to_array(img)\n",
    "img_array = np.reshape(img_array,[1,28,28,1])\n",
    "\n",
    "classNumber = np.argmax(model.predict(img_array), axis = -1)\n",
    "classes = model.predict(img_array)\n",
    "print(classes)\n",
    "print(classNumber)\n",
    "class_names = ['0', '1', '2', '3', '4', '5','6', '7', '8', '9'] # fill the rest\n",
    "digit = [class_names[i] for i in classNumber]\n",
    "\n",
    "print(digit)"
   ]
  },
  {
   "cell_type": "code",
   "execution_count": null,
   "metadata": {},
   "outputs": [],
   "source": []
  },
  {
   "cell_type": "code",
   "execution_count": null,
   "metadata": {},
   "outputs": [],
   "source": []
  },
  {
   "cell_type": "code",
   "execution_count": null,
   "metadata": {},
   "outputs": [],
   "source": []
  }
 ],
 "metadata": {
  "kernelspec": {
   "display_name": "Python 3",
   "language": "python",
   "name": "python3"
  },
  "language_info": {
   "codemirror_mode": {
    "name": "ipython",
    "version": 3
   },
   "file_extension": ".py",
   "mimetype": "text/x-python",
   "name": "python",
   "nbconvert_exporter": "python",
   "pygments_lexer": "ipython3",
   "version": "3.7.7"
  }
 },
 "nbformat": 4,
 "nbformat_minor": 4
}
